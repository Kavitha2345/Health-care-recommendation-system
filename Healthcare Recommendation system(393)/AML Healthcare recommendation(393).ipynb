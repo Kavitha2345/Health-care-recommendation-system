{
 "cells": [
  {
   "cell_type": "code",
   "execution_count": 1,
   "id": "3ceedcf4-8790-4a7b-a2e2-e7e90ddc93e1",
   "metadata": {},
   "outputs": [
    {
     "name": "stdout",
     "output_type": "stream",
     "text": [
      "Requirement already satisfied: numpy in c:\\users\\sagar\\appdata\\local\\programs\\python\\python312\\lib\\site-packages (1.26.1)\n",
      "Note: you may need to restart the kernel to use updated packages.\n"
     ]
    },
    {
     "name": "stderr",
     "output_type": "stream",
     "text": [
      "\n",
      "[notice] A new release of pip is available: 23.3.1 -> 25.0.1\n",
      "[notice] To update, run: python.exe -m pip install --upgrade pip\n"
     ]
    }
   ],
   "source": [
    "pip install numpy "
   ]
  },
  {
   "cell_type": "code",
   "execution_count": 2,
   "id": "2e449782-8fae-4b23-b135-bb18f934edef",
   "metadata": {},
   "outputs": [
    {
     "name": "stdout",
     "output_type": "stream",
     "text": [
      "Requirement already satisfied: pandas in c:\\users\\sagar\\appdata\\local\\programs\\python\\python312\\lib\\site-packages (2.1.2)\n",
      "Requirement already satisfied: numpy<2,>=1.26.0 in c:\\users\\sagar\\appdata\\local\\programs\\python\\python312\\lib\\site-packages (from pandas) (1.26.1)\n",
      "Requirement already satisfied: python-dateutil>=2.8.2 in c:\\users\\sagar\\appdata\\local\\programs\\python\\python312\\lib\\site-packages (from pandas) (2.8.2)\n",
      "Requirement already satisfied: pytz>=2020.1 in c:\\users\\sagar\\appdata\\local\\programs\\python\\python312\\lib\\site-packages (from pandas) (2023.3.post1)\n",
      "Requirement already satisfied: tzdata>=2022.1 in c:\\users\\sagar\\appdata\\local\\programs\\python\\python312\\lib\\site-packages (from pandas) (2023.3)\n",
      "Requirement already satisfied: six>=1.5 in c:\\users\\sagar\\appdata\\local\\programs\\python\\python312\\lib\\site-packages (from python-dateutil>=2.8.2->pandas) (1.16.0)\n",
      "Note: you may need to restart the kernel to use updated packages.\n"
     ]
    },
    {
     "name": "stderr",
     "output_type": "stream",
     "text": [
      "\n",
      "[notice] A new release of pip is available: 23.3.1 -> 25.0.1\n",
      "[notice] To update, run: python.exe -m pip install --upgrade pip\n"
     ]
    }
   ],
   "source": [
    "pip install pandas"
   ]
  },
  {
   "cell_type": "code",
   "execution_count": 3,
   "id": "e445dac9-5f4e-4414-9514-71bf9a85131b",
   "metadata": {},
   "outputs": [
    {
     "name": "stdout",
     "output_type": "stream",
     "text": [
      "Requirement already satisfied: scikit-learn in c:\\users\\sagar\\appdata\\local\\programs\\python\\python312\\lib\\site-packages (1.3.2)\n",
      "Requirement already satisfied: numpy<2.0,>=1.17.3 in c:\\users\\sagar\\appdata\\local\\programs\\python\\python312\\lib\\site-packages (from scikit-learn) (1.26.1)\n",
      "Requirement already satisfied: scipy>=1.5.0 in c:\\users\\sagar\\appdata\\local\\programs\\python\\python312\\lib\\site-packages (from scikit-learn) (1.11.3)\n",
      "Requirement already satisfied: joblib>=1.1.1 in c:\\users\\sagar\\appdata\\local\\programs\\python\\python312\\lib\\site-packages (from scikit-learn) (1.3.2)\n",
      "Requirement already satisfied: threadpoolctl>=2.0.0 in c:\\users\\sagar\\appdata\\local\\programs\\python\\python312\\lib\\site-packages (from scikit-learn) (3.2.0)\n",
      "Note: you may need to restart the kernel to use updated packages.\n"
     ]
    },
    {
     "name": "stderr",
     "output_type": "stream",
     "text": [
      "\n",
      "[notice] A new release of pip is available: 23.3.1 -> 25.0.1\n",
      "[notice] To update, run: python.exe -m pip install --upgrade pip\n"
     ]
    }
   ],
   "source": [
    "pip install scikit-learn"
   ]
  },
  {
   "cell_type": "code",
   "execution_count": null,
   "id": "e8897ce8-8bd5-4849-aa61-d3bc3201163d",
   "metadata": {},
   "outputs": [
    {
     "name": "stdout",
     "output_type": "stream",
     "text": [
      "Please reply with yes/Yes or no/No for the following symptoms\n",
      "pain_behind_the_eyes ?\n"
     ]
    }
   ],
   "source": [
    "######## A Healthcare Domain Chatbot to simulate the predictions of a General Physician ########\n",
    "######## An Approach for Diagnosis ############\n",
    "\n",
    "# Importing the libraries\n",
    "import numpy as np\n",
    "#import matplotlib.pyplot as plt\n",
    "import pandas as pd\n",
    "\n",
    "# Importing the dataset\n",
    "training_dataset = pd.read_csv('Training.csv')\n",
    "test_dataset = pd.read_csv('Testing.csv')\n",
    "\n",
    "\n",
    "# Slicing and Dicing the dataset to separate features from predictions\n",
    "X = training_dataset.iloc[:, 0:132].values\n",
    "y = training_dataset.iloc[:, -1].values\n",
    "A = test_dataset.iloc[:, 0:132].values\n",
    "B = test_dataset.iloc[:, -1].values\n",
    "\n",
    "# Dimensionality Reduction for removing redundancies\n",
    "dimensionality_reduction = training_dataset.groupby(training_dataset['prognosis']).max()\n",
    "\n",
    "# Encoding String values to integer constants\n",
    "from sklearn.preprocessing import LabelEncoder\n",
    "labelencoder = LabelEncoder()\n",
    "y = labelencoder.fit_transform(y)\n",
    "B = labelencoder.fit_transform(B)\n",
    "\n",
    "# Splitting the dataset into training set and test set\n",
    "from sklearn.model_selection import train_test_split\n",
    "X_train, X_test, y_train, y_test = train_test_split(X, y, test_size = 0.10)\n",
    "\n",
    "# Implementing the Decision Tree Classifier\n",
    "from sklearn.tree import DecisionTreeClassifier\n",
    "classifier = DecisionTreeClassifier()\n",
    "classifier.fit(X_train, y_train)\n",
    "\n",
    "# Saving the information of columns\n",
    "cols     = training_dataset.columns\n",
    "cols     = cols[:-1]\n",
    "\n",
    "\n",
    "# Checking the Important features\n",
    "importances = classifier.feature_importances_\n",
    "indices = np.argsort(importances)[::-1]\n",
    "features = cols\n",
    "\n",
    "# Implementing the Visual Tree\n",
    "from sklearn.tree import _tree\n",
    "\n",
    "# Method to simulate the working of a Chatbot by extracting and formulating questions\n",
    "def execute_bot():\n",
    "\n",
    "    print(\"Please reply with yes/Yes or no/No for the following symptoms\") \n",
    "    def print_disease(node):\n",
    "        #print(node)\n",
    "        node = node[0]\n",
    "        #print(len(node))\n",
    "        val  = node.nonzero() \n",
    "        #print(val)\n",
    "        disease = labelencoder.inverse_transform(val[0])\n",
    "        return disease\n",
    "    def tree_to_code(tree, feature_names):\n",
    "        tree_ = tree.tree_\n",
    "        #print(tree_)\n",
    "        feature_name = [\n",
    "            feature_names[i] if i != _tree.TREE_UNDEFINED else \"undefined!\"\n",
    "            for i in tree_.feature\n",
    "        ]\n",
    "        #print(\"def tree({}):\".format(\", \".join(feature_names)))\n",
    "        symptoms_present = []\n",
    "        def recurse(node, depth):\n",
    "            indent = \"  \" * depth\n",
    "            if tree_.feature[node] != _tree.TREE_UNDEFINED:\n",
    "                name = feature_name[node]\n",
    "                threshold = tree_.threshold[node]\n",
    "                print(name + \" ?\")\n",
    "                ans = input()\n",
    "                ans = ans.lower()\n",
    "                if (ans == 'yes'or ans=='y'or ans=='ye'):\n",
    "                    val = 1\n",
    "                else:\n",
    "                    val = 0\n",
    "                if  val <= threshold:\n",
    "                    recurse(tree_.children_left[node], depth + 1)\n",
    "                else:\n",
    "                    symptoms_present.append(name)\n",
    "                    recurse(tree_.children_right[node], depth + 1)\n",
    "            else:\n",
    "                present_disease = print_disease(tree_.value[node])\n",
    "                #print(cols)\n",
    "                print( \"You may have \" +  present_disease )\n",
    "                print()\n",
    "                red_cols = dimensionality_reduction.columns \n",
    "                symptoms_given = red_cols[dimensionality_reduction.loc[present_disease].values[0].nonzero()]\n",
    "                print(\"symptoms present  \" + str(list(symptoms_present)))\n",
    "                print()\n",
    "                print(\"symptoms given \"  +  str(list(symptoms_given)) )  \n",
    "                print()\n",
    "                score = classifier.score(A, B)*100\n",
    "                print(\"accuracy \" + str(score)+\"%\")\n",
    "                print()\n",
    "                print('The model suggests:')\n",
    "                print()\n",
    "                row = doctors[doctors['disease'] == present_disease[0]]\n",
    "                print('Consult ', str(row['name'].values))\n",
    "                print()\n",
    "                print('Visit ', str(row['link'].values))\n",
    "                #print(present_disease[0])\n",
    "                \n",
    "    \n",
    "        recurse(0, 1)\n",
    "    \n",
    "    tree_to_code(classifier,cols)\n",
    "\n",
    "\n",
    "# This section of code to be run after scraping the data\n",
    "\n",
    "doc_dataset = pd.read_csv('doctors_dataset.csv', names = ['Name', 'Description'])\n",
    "\n",
    "\n",
    "diseases = dimensionality_reduction.index\n",
    "diseases = pd.DataFrame(diseases)\n",
    "\n",
    "doctors = pd.DataFrame()\n",
    "doctors['name'] = np.nan\n",
    "doctors['link'] = np.nan\n",
    "doctors['disease'] = np.nan\n",
    "\n",
    "doctors['disease'] = diseases['prognosis']\n",
    "\n",
    "\n",
    "doctors['name'] = doc_dataset['Name']\n",
    "doctors['link'] = doc_dataset['Description']\n",
    "\n",
    "record = doctors[doctors['disease'] == 'AIDS']\n",
    "record['name']\n",
    "record['link']\n",
    "\n",
    "\n",
    "\n",
    "\n",
    "# Execute the bot and see it in Action\n",
    "execute_bot()\n"
   ]
  },
  {
   "cell_type": "code",
   "execution_count": null,
   "id": "6ab5dce2-35a7-444f-b043-69a3de0ebf44",
   "metadata": {},
   "outputs": [],
   "source": []
  }
 ],
 "metadata": {
  "kernelspec": {
   "display_name": "Python 3",
   "language": "python",
   "name": "python3"
  },
  "language_info": {
   "codemirror_mode": {
    "name": "ipython",
    "version": 3
   },
   "file_extension": ".py",
   "mimetype": "text/x-python",
   "name": "python",
   "nbconvert_exporter": "python",
   "pygments_lexer": "ipython3",
   "version": "3.12.0"
  }
 },
 "nbformat": 4,
 "nbformat_minor": 5
}
